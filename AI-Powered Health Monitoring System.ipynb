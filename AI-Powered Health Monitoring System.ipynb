{
 "cells": [
  {
   "cell_type": "code",
   "execution_count": 1,
   "id": "b96bff60-5984-4fe2-bd3d-dc067074c3d6",
   "metadata": {},
   "outputs": [
    {
     "name": "stdout",
     "output_type": "stream",
     "text": [
      "            timestamp  heart_rate  blood_oxygen activity_level\n",
      "0 2023-10-01 00:00:00          88            97       moderate\n",
      "1 2023-10-01 00:01:00          91            91           high\n",
      "2 2023-10-01 00:02:00          61            92            low\n",
      "3 2023-10-01 00:03:00          81            90            low\n",
      "4 2023-10-01 00:04:00          80            94            low\n"
     ]
    }
   ],
   "source": [
    "# data.ipynb\n",
    "import pandas as pd\n",
    "import numpy as np\n",
    "\n",
    "# health metrics\n",
    "data = {\n",
    "    'timestamp': pd.date_range(start='2023-10-01', periods=100, freq='min'),\n",
    "    'heart_rate': np.random.randint(60, 100, 100),\n",
    "    'blood_oxygen': np.random.randint(90, 100, 100),\n",
    "    'activity_level': np.random.choice(['low', 'moderate', 'high'], 100)\n",
    "}\n",
    "\n",
    "df = pd.DataFrame(data)\n",
    "df.to_csv('health_data.csv', index=False)\n",
    "print(df.head())\n"
   ]
  },
  {
   "cell_type": "code",
   "execution_count": 4,
   "id": "26725715-971e-4cfd-b0dd-841137199864",
   "metadata": {},
   "outputs": [
    {
     "name": "stdout",
     "output_type": "stream",
     "text": [
      "             timestamp  heart_rate  blood_oxygen anomaly\n",
      "0  2023-10-01 00:00:00          88            97  Normal\n",
      "1  2023-10-01 00:01:00          91            91  Normal\n",
      "2  2023-10-01 00:02:00          61            92  Normal\n",
      "3  2023-10-01 00:03:00          81            90  Normal\n",
      "4  2023-10-01 00:04:00          80            94  Normal\n"
     ]
    }
   ],
   "source": [
    "# model_training.ipynb\n",
    "from sklearn.ensemble import IsolationForest\n",
    "import pandas as pd\n",
    "import joblib\n",
    "\n",
    "df = pd.read_csv('health_data.csv')\n",
    "\n",
    "model = IsolationForest(contamination=0.1)\n",
    "df['anomaly'] = model.fit_predict(df[['heart_rate', 'blood_oxygen']])\n",
    "df['anomaly'] = df['anomaly'].apply(lambda x: 'Anomaly' if x == -1 else 'Normal')\n",
    "\n",
    "joblib.dump(model, 'anomaly_model.pkl') \n",
    "\n",
    "print(df[['timestamp', 'heart_rate', 'blood_oxygen', 'anomaly']].head())\n"
   ]
  },
  {
   "cell_type": "code",
   "execution_count": 6,
   "id": "a6024953-d3d0-4283-8ee7-ce974cd7f96f",
   "metadata": {},
   "outputs": [
    {
     "name": "stdout",
     "output_type": "stream",
     "text": [
      " * Serving Flask app '__main__'\n",
      " * Debug mode: on\n"
     ]
    },
    {
     "name": "stderr",
     "output_type": "stream",
     "text": [
      "WARNING: This is a development server. Do not use it in a production deployment. Use a production WSGI server instead.\n",
      " * Running on http://127.0.0.1:5000\n",
      "Press CTRL+C to quit\n",
      " * Restarting with stat\n"
     ]
    },
    {
     "ename": "SystemExit",
     "evalue": "1",
     "output_type": "error",
     "traceback": [
      "An exception has occurred, use %tb to see the full traceback.\n",
      "\u001b[1;31mSystemExit\u001b[0m\u001b[1;31m:\u001b[0m 1\n"
     ]
    }
   ],
   "source": [
    "from flask import Flask, render_template\n",
    "import pandas as pd\n",
    "import joblib\n",
    "\n",
    "app = Flask(__name__)\n",
    "\n",
    "@app.route('/')\n",
    "def home():\n",
    "    df = pd.read_csv('health_data.csv')\n",
    "    model = joblib.load('anomaly_model.pkl')\n",
    "    df['anomaly'] = model.predict(df[['heart_rate', 'blood_oxygen']])\n",
    "    df['anomaly'] = df['anomaly'].apply(lambda x: 'Anomaly' if x == -1 else 'Normal')\n",
    "    data = df.tail(1).to_dict('records')[0]\n",
    "    return render_template('index.html', data=data)\n",
    "\n",
    "if __name__ == '__main__':\n",
    "    app.run(debug=True)\n"
   ]
  },
  {
   "cell_type": "markdown",
   "id": "b5490d0e-b158-4756-bcc4-322e96164cc5",
   "metadata": {},
   "source": [
    "<!DOCTYPE html>\n",
    "<html>\n",
    "<head>\n",
    "    <title>Health Dashboard</title>\n",
    "</head>\n",
    "<body>\n",
    "    <h2>Latest Health Reading</h2>\n",
    "    <ul>\n",
    "        <li>Heart Rate: {{ data['heart_rate'] }}</li>\n",
    "        <li>Blood Oxygen: {{ data['blood_oxygen'] }}</li>\n",
    "        <li>Activity Level: {{ data['activity_level'] }}</li>\n",
    "        <li>Status: {{ '⚠️ ' + data['anomaly'] if data['anomaly'] == 'Anomaly' else '✅ Normal' }}</li>\n",
    "    </ul>\n",
    "</body>\n",
    "</html>\n"
   ]
  },
  {
   "cell_type": "code",
   "execution_count": null,
   "id": "0f495984-9e73-4154-8f64-870d39a12eea",
   "metadata": {},
   "outputs": [],
   "source": []
  }
 ],
 "metadata": {
  "kernelspec": {
   "display_name": "Python 3 (ipykernel)",
   "language": "python",
   "name": "python3"
  },
  "language_info": {
   "codemirror_mode": {
    "name": "ipython",
    "version": 3
   },
   "file_extension": ".py",
   "mimetype": "text/x-python",
   "name": "python",
   "nbconvert_exporter": "python",
   "pygments_lexer": "ipython3",
   "version": "3.9.23"
  }
 },
 "nbformat": 4,
 "nbformat_minor": 5
}
